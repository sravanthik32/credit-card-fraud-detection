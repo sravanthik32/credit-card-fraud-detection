{
 "cells": [
  {
   "cell_type": "code",
   "execution_count": 1,
   "id": "1e15fd2b",
   "metadata": {},
   "outputs": [
    {
     "name": "stdout",
     "output_type": "stream",
     "text": [
      "   Age  Sex  cp  trestbps  chot  fbs  restecg  thalach  exang  oldpeak  slope  \\\n",
      "0   63    1   1       145   233    1        2      150      0      2.3      3   \n",
      "1   67    1   4       160   286    0        2      108      1      1.5      2   \n",
      "2   67    1   4       120   229    0        2      129      1      2.6      2   \n",
      "3   41    0   2       130   204    0        2      172      0      1.4      1   \n",
      "4   62    0   4       140   268    0        2      160      0      3.6      3   \n",
      "5   60    1   4       130   206    0        2      132      1      2.4      2   \n",
      "\n",
      "   ca  thal  Heartdisease  \n",
      "0   0     6             0  \n",
      "1   3     3             2  \n",
      "2   2     7             1  \n",
      "3   0     3             0  \n",
      "4   2     3             3  \n",
      "5   2     7             4  \n"
     ]
    }
   ],
   "source": [
    "import numpy as np\n",
    "import csv\n",
    "import pandas as pd\n",
    "student = pd.read_csv('Book1.csv')\n",
    "print(student)"
   ]
  },
  {
   "cell_type": "code",
   "execution_count": null,
   "id": "7fc1dee1",
   "metadata": {},
   "outputs": [],
   "source": []
  }
 ],
 "metadata": {
  "kernelspec": {
   "display_name": "Python 3 (ipykernel)",
   "language": "python",
   "name": "python3"
  },
  "language_info": {
   "codemirror_mode": {
    "name": "ipython",
    "version": 3
   },
   "file_extension": ".py",
   "mimetype": "text/x-python",
   "name": "python",
   "nbconvert_exporter": "python",
   "pygments_lexer": "ipython3",
   "version": "3.11.4"
  }
 },
 "nbformat": 4,
 "nbformat_minor": 5
}
